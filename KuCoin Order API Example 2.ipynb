{
 "cells": [
  {
   "cell_type": "code",
   "execution_count": 9,
   "metadata": {},
   "outputs": [],
   "source": [
    "from kucoin.client import Trade\n",
    "from kucoin.client import Market\n",
    "import pandas as pd\n",
    "from time import sleep\n",
    "\n",
    "api_key = '60491b8da682810006e2f600'\n",
    "api_secret = 'a79226df-55ce-43d0-b771-20746e338b67'\n",
    "api_passphrase = 'algotrading101'\n",
    "\n",
    "m_client = Market(url='https://api.kucoin.com')\n",
    "client = Trade(api_key, api_secret, api_passphrase, is_sandbox=True)"
   ]
  },
  {
   "cell_type": "code",
   "execution_count": null,
   "metadata": {},
   "outputs": [],
   "source": [
    "while True:\n",
    "    try:\n",
    "        btc_old = m_client.get_ticker('BTC-USDT')\n",
    "        print('The price of BTC at {} is:'.format(pd.Timestamp.now()), btc_old['price'])\n",
    "    except Exception as e:\n",
    "        print(f'Error obtaining BTC data: {e}')\n",
    "    \n",
    "    sleep(300)\n",
    "    \n",
    "    try:\n",
    "        btc_new = m_client.get_ticker('BTC-USDT')\n",
    "        print('The price of BTC at {} is:'.format(pd.Timestamp.now()), btc_new['price'])\n",
    "    except Exception as e:\n",
    "        print(f'Error obtaining BTC data: {e}')    \n",
    "    \n",
    "    percent = (((float(btc_new['bestAsk']) - float(btc_old['bestAsk'])) * 100) / float(btc_old['bestAsk']))\n",
    "    \n",
    "    if percent < 5:\n",
    "        print('The trade requirement was not satisfied. The percentage move is at ',percent)\n",
    "        continue\n",
    "        \n",
    "    elif percent >= 5:\n",
    "        try:\n",
    "            order = client.create_market_order('ETH-USDT', 'buy', size='5')\n",
    "            print()\n",
    "        except Exception as e:\n",
    "            print(f'Error placing order: {e}')\n",
    "            \n",
    "        sleep(2)\n",
    "        \n",
    "        try:\n",
    "            check = client.get_order_details(orderId=order['orderId'])\n",
    "            print(check)\n",
    "        except Excpetion as e:\n",
    "            print(f'Error while checking order status: {e}')\n",
    "            \n",
    "        if check['isActive'] == true:\n",
    "            print ('Order placed at {}'.format(pd.Timestamp.now()))\n",
    "            break\n",
    "            \n",
    "        else:\n",
    "            print('Order was canceled {}'.format(pd.Timestamp.now()))\n",
    "            break"
   ]
  },
  {
   "cell_type": "code",
   "execution_count": null,
   "metadata": {},
   "outputs": [],
   "source": []
  }
 ],
 "metadata": {
  "kernelspec": {
   "display_name": "Python 3",
   "language": "python",
   "name": "python3"
  },
  "language_info": {
   "codemirror_mode": {
    "name": "ipython",
    "version": 3
   },
   "file_extension": ".py",
   "mimetype": "text/x-python",
   "name": "python",
   "nbconvert_exporter": "python",
   "pygments_lexer": "ipython3",
   "version": "3.8.3"
  }
 },
 "nbformat": 4,
 "nbformat_minor": 4
}
