{
 "cells": [
  {
   "cell_type": "code",
   "execution_count": 9,
   "metadata": {},
   "outputs": [],
   "source": [
    "from kucoin.client import Trade\n",
    "from kucoin.client import Market\n",
    "import pandas as pd\n",
    "from time import sleep\n",
    "\n",
    "api_key = '60491b8da682810006e2f600'\n",
    "api_secret = 'a79226df-55ce-43d0-b771-20746e338b67'\n",
    "api_passphrase = 'algotrading101'\n",
    "\n",
    "m_client = Market(url='https://api.kucoin.com')\n",
    "client = Trade(api_key, api_secret, api_passphrase, is_sandbox=True)"
   ]
  },
  {
   "cell_type": "code",
   "execution_count": null,
   "metadata": {},
   "outputs": [],
   "source": [
    "while True:\n",
    "    try:\n",
    "        btc = m_client.get_ticker('BTC-USDT')\n",
    "        print('The price of BTC at {} is:'.format(pd.Timestamp.now()), btc['price'])\n",
    "    except exception as e:\n",
    "        print('Error obtaining BTC data')\n",
    "        \n",
    "    if float(btc['bestAsk']) < 57200.00:\n",
    "        continue\n",
    "        \n",
    "    elif float(btc['bestAsk']) >= 57200.00: \n",
    "        try:\n",
    "            order = client.create_market_order('ETH-USDT', 'buy', size='5')\n",
    "            print()\n",
    "        except exception as e:\n",
    "            print('Error placing order')\n",
    "            \n",
    "        sleep(2)\n",
    "        \n",
    "        try:\n",
    "            check = client.get_order_details(orderId=order['orderId'])\n",
    "            print(check)\n",
    "        except excpetion as e:\n",
    "            print('Error while checking order status')\n",
    "            \n",
    "        if check['isActive'] == true:\n",
    "            print ('Order placed at {}'.format(pd.Timestamp.now()))\n",
    "            break\n",
    "            \n",
    "        else:\n",
    "            print('Order was canceled {}'.format(pd.Timestamp.now()))\n",
    "            break"
   ]
  },
  {
   "cell_type": "code",
   "execution_count": null,
   "metadata": {},
   "outputs": [],
   "source": []
  }
 ],
 "metadata": {
  "kernelspec": {
   "display_name": "Python 3",
   "language": "python",
   "name": "python3"
  },
  "language_info": {
   "codemirror_mode": {
    "name": "ipython",
    "version": 3
   },
   "file_extension": ".py",
   "mimetype": "text/x-python",
   "name": "python",
   "nbconvert_exporter": "python",
   "pygments_lexer": "ipython3",
   "version": "3.8.3"
  }
 },
 "nbformat": 4,
 "nbformat_minor": 4
}
